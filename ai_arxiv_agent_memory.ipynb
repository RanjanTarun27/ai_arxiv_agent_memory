{
  "nbformat": 4,
  "nbformat_minor": 0,
  "metadata": {
    "colab": {
      "provenance": [],
      "authorship_tag": "ABX9TyNnixu6cidyo7A6IOz93PUf",
      "include_colab_link": true
    },
    "kernelspec": {
      "name": "python3",
      "display_name": "Python 3"
    },
    "language_info": {
      "name": "python"
    }
  },
  "cells": [
    {
      "cell_type": "markdown",
      "metadata": {
        "id": "view-in-github",
        "colab_type": "text"
      },
      "source": [
        "<a href=\"https://colab.research.google.com/github/RanjanTarun27/ai_arxiv_agent_memory/blob/main/ai_arxiv_agent_memory.ipynb\" target=\"_parent\"><img src=\"https://colab.research.google.com/assets/colab-badge.svg\" alt=\"Open In Colab\"/></a>"
      ]
    },
    {
      "cell_type": "code",
      "execution_count": null,
      "metadata": {
        "id": "GvUgxxrzNiyp"
      },
      "outputs": [],
      "source": [
        "import streamlit as st\n",
        "import os\n",
        "from mem0 import Memory\n",
        "from multion.client import MultiOn\n",
        "from openai import OpenAI\n",
        "\n",
        "st.title(\"AI Research Agent with Memory 📚\")\n",
        "\n",
        "api_keys = {k: st.text_input(f\"{k.capitalize()} API Key\", type=\"password\") for k in ['openai', 'multion']}\n",
        "\n",
        "if all(api_keys.values()):\n",
        "    os.environ['OPENAI_API_KEY'] = api_keys['openai']\n",
        "    # Initialize Mem0 with Qdrant\n",
        "    config = {\n",
        "        \"vector_store\": {\n",
        "            \"provider\": \"qdrant\",\n",
        "            \"config\": {\n",
        "                \"model\": \"gpt-4o-mini\",\n",
        "                \"host\": \"localhost\",\n",
        "                \"port\": 6333,\n",
        "            }\n",
        "        },\n",
        "    }\n",
        "    memory, multion, openai_client = Memory.from_config(config), MultiOn(api_key=api_keys['multion']), OpenAI(api_key=api_keys['openai'])\n",
        "\n",
        "    user_id = st.sidebar.text_input(\"Enter your Username\")\n",
        "    #user_interests = st.text_area(\"Research interests and background\")\n",
        "\n",
        "    search_query = st.text_input(\"Research paper search query\")\n",
        "\n",
        "    def process_with_gpt4(result):\n",
        "        \"\"\"Processes an arXiv search result to produce a structured markdown output.\n",
        "\n",
        "    This function takes a search result from arXiv and generates a markdown-formatted\n",
        "    table containing details about each paper. The table includes columns for the\n",
        "    paper's title, authors, a brief abstract, and a link to the paper on arXiv.\n",
        "\n",
        "    Args:\n",
        "        result (str): The raw search result from arXiv, typically in a text format.\n",
        "\n",
        "    Returns:\n",
        "        str: A markdown-formatted string containing a table with paper details.\"\"\"\n",
        "        prompt = f\"\"\"\n",
        "        Based on the following arXiv search result, provide a proper structured output in markdown that is readable by the users.\n",
        "        Each paper should have a title, authors, abstract, and link.\n",
        "        Search Result: {result}\n",
        "        Output Format: Table with the following columns: [{{\"title\": \"Paper Title\", \"authors\": \"Author Names\", \"abstract\": \"Brief abstract\", \"link\": \"arXiv link\"}}, ...]\n",
        "        \"\"\"\n",
        "        response = openai_client.chat.completions.create(model=\"gpt-4o-mini\", messages=[{\"role\": \"user\", \"content\": prompt}], temperature=0.2)\n",
        "        return response.choices[0].message.content\n",
        "\n",
        "    if st.button('Search for Papers'):\n",
        "        with st.spinner('Searching and Processing...'):\n",
        "            relevant_memories = memory.search(search_query, user_id=user_id, limit=3)\n",
        "            prompt = f\"Search for arXiv papers: {search_query}\\nUser background: {' '.join(mem['text'] for mem in relevant_memories)}\"\n",
        "            result = process_with_gpt4(multion.browse(cmd=prompt, url=\"https://arxiv.org/\"))\n",
        "            st.markdown(result)\n",
        "\n",
        "    if st.sidebar.button(\"View Memory\"):\n",
        "        st.sidebar.write(\"\\n\".join([f\"- {mem['text']}\" for mem in memory.get_all(user_id=user_id)]))\n",
        "\n",
        "else:\n",
        "    st.warning(\"Please enter your API keys to use this app.\")"
      ]
    }
  ]
}